{
 "cells": [
  {
   "cell_type": "code",
   "execution_count": 30,
   "metadata": {},
   "outputs": [],
   "source": [
    "import pandas as pd\n",
    "\n",
    "# Cargar el dataset\n",
    "df = pd.read_parquet('movies_dataset.parquet')\n",
    "\n"
   ]
  },
  {
   "cell_type": "code",
   "execution_count": 31,
   "metadata": {},
   "outputs": [
    {
     "data": {
      "text/plain": [
       "Index(['belongs_to_collection', 'budget', 'genres', 'id', 'original_language',\n",
       "       'overview', 'popularity', 'production_companies',\n",
       "       'production_countries', 'release_date', 'revenue', 'runtime',\n",
       "       'spoken_languages', 'status', 'tagline', 'title', 'vote_average',\n",
       "       'vote_count', 'cast', 'crew', 'mes_numero', 'mes'],\n",
       "      dtype='object')"
      ]
     },
     "execution_count": 31,
     "metadata": {},
     "output_type": "execute_result"
    }
   ],
   "source": [
    "# Verificar las columnas disponibles\n",
    "df.columns"
   ]
  },
  {
   "cell_type": "code",
   "execution_count": 32,
   "metadata": {},
   "outputs": [],
   "source": [
    "# Asegurarnos de que las columnas necesarias existen y no tienen valores nulos\n",
    "df['title'] = df['title'].fillna('').astype(str)\n",
    "df['genres'] = df['genres'].fillna('').astype(str)\n",
    "df['overview'] = df['overview'].fillna('').astype(str)\n",
    "df['id'] = df['id'].fillna('').astype(str)"
   ]
  },
  {
   "cell_type": "code",
   "execution_count": 33,
   "metadata": {},
   "outputs": [],
   "source": [
    "# Crear una columna combinada de características relevantes para la recomendación\n",
    "df['combined_features'] = df['title'] + ' ' + df['overview'] + ' ' + df['genres']"
   ]
  },
  {
   "cell_type": "code",
   "execution_count": 34,
   "metadata": {},
   "outputs": [
    {
     "name": "stdout",
     "output_type": "stream",
     "text": [
      "Valores nulos después de la limpieza:\n",
      " belongs_to_collection    41038\n",
      "budget                       0\n",
      "genres                       0\n",
      "id                           0\n",
      "original_language           11\n",
      "overview                     0\n",
      "popularity                   3\n",
      "production_companies         3\n",
      "production_countries         3\n",
      "release_date                87\n",
      "revenue                      3\n",
      "runtime                    260\n",
      "spoken_languages             3\n",
      "status                      84\n",
      "tagline                  25099\n",
      "title                        0\n",
      "vote_average                 3\n",
      "vote_count                   3\n",
      "cast                     37009\n",
      "crew                     41047\n",
      "mes_numero                  87\n",
      "mes                         87\n",
      "combined_features            0\n",
      "dtype: int64\n"
     ]
    }
   ],
   "source": [
    "# Verificar la cantidad de valores nulos en cada columna\n",
    "null_counts = df.isnull().sum()\n",
    "print(\"Valores nulos después de la limpieza:\\n\", null_counts)"
   ]
  },
  {
   "cell_type": "code",
   "execution_count": 35,
   "metadata": {},
   "outputs": [],
   "source": [
    "null_counts = df.isnull().sum()\n"
   ]
  },
  {
   "cell_type": "code",
   "execution_count": 36,
   "metadata": {},
   "outputs": [
    {
     "name": "stdout",
     "output_type": "stream",
     "text": [
      "Valores nulos después de la limpieza:\n",
      " belongs_to_collection    41038\n",
      "budget                       0\n",
      "genres                       0\n",
      "id                           0\n",
      "original_language           11\n",
      "overview                     0\n",
      "popularity                   3\n",
      "production_companies         3\n",
      "production_countries         3\n",
      "release_date                87\n",
      "revenue                      3\n",
      "runtime                    260\n",
      "spoken_languages             3\n",
      "status                      84\n",
      "tagline                  25099\n",
      "title                        0\n",
      "vote_average                 3\n",
      "vote_count                   3\n",
      "cast                     37009\n",
      "crew                     41047\n",
      "mes_numero                  87\n",
      "mes                         87\n",
      "combined_features            0\n",
      "dtype: int64\n"
     ]
    }
   ],
   "source": [
    "print(\"Valores nulos después de la limpieza:\\n\", null_counts)\n"
   ]
  },
  {
   "cell_type": "code",
   "execution_count": 37,
   "metadata": {},
   "outputs": [],
   "source": [
    "# Rellenar valores nulos en las columnas relevantes\n",
    "for col in ['title', 'genres', 'overview']:\n",
    "    df[col] = df[col].fillna('')"
   ]
  },
  {
   "cell_type": "code",
   "execution_count": 38,
   "metadata": {},
   "outputs": [
    {
     "name": "stdout",
     "output_type": "stream",
     "text": [
      "Valores nulos después de la limpieza:\n",
      " belongs_to_collection    41038\n",
      "budget                       0\n",
      "genres                       0\n",
      "id                           0\n",
      "original_language           11\n",
      "overview                     0\n",
      "popularity                   3\n",
      "production_companies         3\n",
      "production_countries         3\n",
      "release_date                87\n",
      "revenue                      3\n",
      "runtime                    260\n",
      "spoken_languages             3\n",
      "status                      84\n",
      "tagline                  25099\n",
      "title                        0\n",
      "vote_average                 3\n",
      "vote_count                   3\n",
      "cast                     37009\n",
      "crew                     41047\n",
      "mes_numero                  87\n",
      "mes                         87\n",
      "combined_features            0\n",
      "dtype: int64\n"
     ]
    }
   ],
   "source": [
    "# Verificar nuevamente la cantidad de valores nulos en cada columna\n",
    "null_counts = df.isnull().sum()\n",
    "print(\"Valores nulos después de la limpieza:\\n\", null_counts)"
   ]
  },
  {
   "cell_type": "code",
   "execution_count": 39,
   "metadata": {},
   "outputs": [],
   "source": [
    "# Seleccionar solo las columnas necesarias para el modelo\n",
    "df_reduced = df[['title', 'id', 'genres', 'overview', 'combined_features']]"
   ]
  },
  {
   "cell_type": "code",
   "execution_count": 40,
   "metadata": {},
   "outputs": [
    {
     "data": {
      "text/html": [
       "<div>\n",
       "<style scoped>\n",
       "    .dataframe tbody tr th:only-of-type {\n",
       "        vertical-align: middle;\n",
       "    }\n",
       "\n",
       "    .dataframe tbody tr th {\n",
       "        vertical-align: top;\n",
       "    }\n",
       "\n",
       "    .dataframe thead th {\n",
       "        text-align: right;\n",
       "    }\n",
       "</style>\n",
       "<table border=\"1\" class=\"dataframe\">\n",
       "  <thead>\n",
       "    <tr style=\"text-align: right;\">\n",
       "      <th></th>\n",
       "      <th>title</th>\n",
       "      <th>id</th>\n",
       "      <th>genres</th>\n",
       "      <th>overview</th>\n",
       "      <th>combined_features</th>\n",
       "    </tr>\n",
       "  </thead>\n",
       "  <tbody>\n",
       "    <tr>\n",
       "      <th>0</th>\n",
       "      <td>Toy Story</td>\n",
       "      <td>862</td>\n",
       "      <td>[{'id': 16, 'name': 'Animation'}, {'id': 35, '...</td>\n",
       "      <td>Led by Woody, Andy's toys live happily in his ...</td>\n",
       "      <td>Toy Story Led by Woody, Andy's toys live happi...</td>\n",
       "    </tr>\n",
       "    <tr>\n",
       "      <th>1</th>\n",
       "      <td>Jumanji</td>\n",
       "      <td>8844</td>\n",
       "      <td>[{'id': 12, 'name': 'Adventure'}, {'id': 14, '...</td>\n",
       "      <td>When siblings Judy and Peter discover an encha...</td>\n",
       "      <td>Jumanji When siblings Judy and Peter discover ...</td>\n",
       "    </tr>\n",
       "    <tr>\n",
       "      <th>2</th>\n",
       "      <td>Grumpier Old Men</td>\n",
       "      <td>15602</td>\n",
       "      <td>[{'id': 10749, 'name': 'Romance'}, {'id': 35, ...</td>\n",
       "      <td>A family wedding reignites the ancient feud be...</td>\n",
       "      <td>Grumpier Old Men A family wedding reignites th...</td>\n",
       "    </tr>\n",
       "    <tr>\n",
       "      <th>3</th>\n",
       "      <td>Waiting to Exhale</td>\n",
       "      <td>31357</td>\n",
       "      <td>[{'id': 35, 'name': 'Comedy'}, {'id': 18, 'nam...</td>\n",
       "      <td>Cheated on, mistreated and stepped on, the wom...</td>\n",
       "      <td>Waiting to Exhale Cheated on, mistreated and s...</td>\n",
       "    </tr>\n",
       "    <tr>\n",
       "      <th>4</th>\n",
       "      <td>Father of the Bride Part II</td>\n",
       "      <td>11862</td>\n",
       "      <td>[{'id': 35, 'name': 'Comedy'}]</td>\n",
       "      <td>Just when George Banks has recovered from his ...</td>\n",
       "      <td>Father of the Bride Part II Just when George B...</td>\n",
       "    </tr>\n",
       "    <tr>\n",
       "      <th>...</th>\n",
       "      <td>...</td>\n",
       "      <td>...</td>\n",
       "      <td>...</td>\n",
       "      <td>...</td>\n",
       "      <td>...</td>\n",
       "    </tr>\n",
       "    <tr>\n",
       "      <th>45533</th>\n",
       "      <td>Subdue</td>\n",
       "      <td>439050</td>\n",
       "      <td>[{'id': 18, 'name': 'Drama'}, {'id': 10751, 'n...</td>\n",
       "      <td>Rising and falling between a man and woman.</td>\n",
       "      <td>Subdue Rising and falling between a man and wo...</td>\n",
       "    </tr>\n",
       "    <tr>\n",
       "      <th>45534</th>\n",
       "      <td>Century of Birthing</td>\n",
       "      <td>111109</td>\n",
       "      <td>[{'id': 18, 'name': 'Drama'}]</td>\n",
       "      <td>An artist struggles to finish his work while a...</td>\n",
       "      <td>Century of Birthing An artist struggles to fin...</td>\n",
       "    </tr>\n",
       "    <tr>\n",
       "      <th>45535</th>\n",
       "      <td>Betrayal</td>\n",
       "      <td>67758</td>\n",
       "      <td>[{'id': 28, 'name': 'Action'}, {'id': 18, 'nam...</td>\n",
       "      <td>When one of her hits goes wrong, a professiona...</td>\n",
       "      <td>Betrayal When one of her hits goes wrong, a pr...</td>\n",
       "    </tr>\n",
       "    <tr>\n",
       "      <th>45536</th>\n",
       "      <td>Satan Triumphant</td>\n",
       "      <td>227506</td>\n",
       "      <td>[]</td>\n",
       "      <td>In a small town live two brothers, one a minis...</td>\n",
       "      <td>Satan Triumphant In a small town live two brot...</td>\n",
       "    </tr>\n",
       "    <tr>\n",
       "      <th>45537</th>\n",
       "      <td>Queerama</td>\n",
       "      <td>461257</td>\n",
       "      <td>[]</td>\n",
       "      <td>50 years after decriminalisation of homosexual...</td>\n",
       "      <td>Queerama 50 years after decriminalisation of h...</td>\n",
       "    </tr>\n",
       "  </tbody>\n",
       "</table>\n",
       "<p>45538 rows × 5 columns</p>\n",
       "</div>"
      ],
      "text/plain": [
       "                             title      id  \\\n",
       "0                        Toy Story     862   \n",
       "1                          Jumanji    8844   \n",
       "2                 Grumpier Old Men   15602   \n",
       "3                Waiting to Exhale   31357   \n",
       "4      Father of the Bride Part II   11862   \n",
       "...                            ...     ...   \n",
       "45533                       Subdue  439050   \n",
       "45534          Century of Birthing  111109   \n",
       "45535                     Betrayal   67758   \n",
       "45536             Satan Triumphant  227506   \n",
       "45537                     Queerama  461257   \n",
       "\n",
       "                                                  genres  \\\n",
       "0      [{'id': 16, 'name': 'Animation'}, {'id': 35, '...   \n",
       "1      [{'id': 12, 'name': 'Adventure'}, {'id': 14, '...   \n",
       "2      [{'id': 10749, 'name': 'Romance'}, {'id': 35, ...   \n",
       "3      [{'id': 35, 'name': 'Comedy'}, {'id': 18, 'nam...   \n",
       "4                         [{'id': 35, 'name': 'Comedy'}]   \n",
       "...                                                  ...   \n",
       "45533  [{'id': 18, 'name': 'Drama'}, {'id': 10751, 'n...   \n",
       "45534                      [{'id': 18, 'name': 'Drama'}]   \n",
       "45535  [{'id': 28, 'name': 'Action'}, {'id': 18, 'nam...   \n",
       "45536                                                 []   \n",
       "45537                                                 []   \n",
       "\n",
       "                                                overview  \\\n",
       "0      Led by Woody, Andy's toys live happily in his ...   \n",
       "1      When siblings Judy and Peter discover an encha...   \n",
       "2      A family wedding reignites the ancient feud be...   \n",
       "3      Cheated on, mistreated and stepped on, the wom...   \n",
       "4      Just when George Banks has recovered from his ...   \n",
       "...                                                  ...   \n",
       "45533        Rising and falling between a man and woman.   \n",
       "45534  An artist struggles to finish his work while a...   \n",
       "45535  When one of her hits goes wrong, a professiona...   \n",
       "45536  In a small town live two brothers, one a minis...   \n",
       "45537  50 years after decriminalisation of homosexual...   \n",
       "\n",
       "                                       combined_features  \n",
       "0      Toy Story Led by Woody, Andy's toys live happi...  \n",
       "1      Jumanji When siblings Judy and Peter discover ...  \n",
       "2      Grumpier Old Men A family wedding reignites th...  \n",
       "3      Waiting to Exhale Cheated on, mistreated and s...  \n",
       "4      Father of the Bride Part II Just when George B...  \n",
       "...                                                  ...  \n",
       "45533  Subdue Rising and falling between a man and wo...  \n",
       "45534  Century of Birthing An artist struggles to fin...  \n",
       "45535  Betrayal When one of her hits goes wrong, a pr...  \n",
       "45536  Satan Triumphant In a small town live two brot...  \n",
       "45537  Queerama 50 years after decriminalisation of h...  \n",
       "\n",
       "[45538 rows x 5 columns]"
      ]
     },
     "execution_count": 40,
     "metadata": {},
     "output_type": "execute_result"
    }
   ],
   "source": [
    "df_reduced"
   ]
  },
  {
   "cell_type": "code",
   "execution_count": 41,
   "metadata": {},
   "outputs": [],
   "source": [
    "# Función para desanidar la columna 'genres'\n",
    "def extract_genres(genres):\n",
    "    try:\n",
    "        genres_list = ast.literal_eval(genres)\n",
    "        return ' '.join([genre['name'] for genre in genres_list])\n",
    "    except:\n",
    "        return ''\n"
   ]
  },
  {
   "cell_type": "code",
   "execution_count": 42,
   "metadata": {},
   "outputs": [],
   "source": [
    "# Aplicar la función a la columna 'genres'\n",
    "df['genres'] = df['genres'].apply(extract_genres)"
   ]
  },
  {
   "cell_type": "code",
   "execution_count": 43,
   "metadata": {},
   "outputs": [],
   "source": [
    "# Crear una columna combinada de características relevantes para la recomendación\n",
    "df['combined_features'] = df['title'] + ' ' + df['overview'] + ' ' + df['genres']\n"
   ]
  },
  {
   "cell_type": "code",
   "execution_count": 44,
   "metadata": {},
   "outputs": [
    {
     "name": "stdout",
     "output_type": "stream",
     "text": [
      "Valores nulos después de la limpieza:\n",
      " belongs_to_collection    41038\n",
      "budget                       0\n",
      "genres                       0\n",
      "id                           0\n",
      "original_language           11\n",
      "overview                     0\n",
      "popularity                   3\n",
      "production_companies         3\n",
      "production_countries         3\n",
      "release_date                87\n",
      "revenue                      3\n",
      "runtime                    260\n",
      "spoken_languages             3\n",
      "status                      84\n",
      "tagline                  25099\n",
      "title                        0\n",
      "vote_average                 3\n",
      "vote_count                   3\n",
      "cast                     37009\n",
      "crew                     41047\n",
      "mes_numero                  87\n",
      "mes                         87\n",
      "combined_features            0\n",
      "dtype: int64\n"
     ]
    }
   ],
   "source": [
    "# Verificar nuevamente la cantidad de valores nulos en cada columna\n",
    "null_counts = df.isnull().sum()\n",
    "print(\"Valores nulos después de la limpieza:\\n\", null_counts)"
   ]
  },
  {
   "cell_type": "code",
   "execution_count": 45,
   "metadata": {},
   "outputs": [],
   "source": [
    "# Seleccionar solo las columnas necesarias para el modelo\n",
    "df_reduced = df[['title', 'id', 'genres', 'overview', 'combined_features']]"
   ]
  },
  {
   "cell_type": "code",
   "execution_count": 46,
   "metadata": {},
   "outputs": [
    {
     "data": {
      "text/html": [
       "<div>\n",
       "<style scoped>\n",
       "    .dataframe tbody tr th:only-of-type {\n",
       "        vertical-align: middle;\n",
       "    }\n",
       "\n",
       "    .dataframe tbody tr th {\n",
       "        vertical-align: top;\n",
       "    }\n",
       "\n",
       "    .dataframe thead th {\n",
       "        text-align: right;\n",
       "    }\n",
       "</style>\n",
       "<table border=\"1\" class=\"dataframe\">\n",
       "  <thead>\n",
       "    <tr style=\"text-align: right;\">\n",
       "      <th></th>\n",
       "      <th>title</th>\n",
       "      <th>id</th>\n",
       "      <th>genres</th>\n",
       "      <th>overview</th>\n",
       "      <th>combined_features</th>\n",
       "    </tr>\n",
       "  </thead>\n",
       "  <tbody>\n",
       "    <tr>\n",
       "      <th>0</th>\n",
       "      <td>Toy Story</td>\n",
       "      <td>862</td>\n",
       "      <td></td>\n",
       "      <td>Led by Woody, Andy's toys live happily in his ...</td>\n",
       "      <td>Toy Story Led by Woody, Andy's toys live happi...</td>\n",
       "    </tr>\n",
       "    <tr>\n",
       "      <th>1</th>\n",
       "      <td>Jumanji</td>\n",
       "      <td>8844</td>\n",
       "      <td></td>\n",
       "      <td>When siblings Judy and Peter discover an encha...</td>\n",
       "      <td>Jumanji When siblings Judy and Peter discover ...</td>\n",
       "    </tr>\n",
       "    <tr>\n",
       "      <th>2</th>\n",
       "      <td>Grumpier Old Men</td>\n",
       "      <td>15602</td>\n",
       "      <td></td>\n",
       "      <td>A family wedding reignites the ancient feud be...</td>\n",
       "      <td>Grumpier Old Men A family wedding reignites th...</td>\n",
       "    </tr>\n",
       "    <tr>\n",
       "      <th>3</th>\n",
       "      <td>Waiting to Exhale</td>\n",
       "      <td>31357</td>\n",
       "      <td></td>\n",
       "      <td>Cheated on, mistreated and stepped on, the wom...</td>\n",
       "      <td>Waiting to Exhale Cheated on, mistreated and s...</td>\n",
       "    </tr>\n",
       "    <tr>\n",
       "      <th>4</th>\n",
       "      <td>Father of the Bride Part II</td>\n",
       "      <td>11862</td>\n",
       "      <td></td>\n",
       "      <td>Just when George Banks has recovered from his ...</td>\n",
       "      <td>Father of the Bride Part II Just when George B...</td>\n",
       "    </tr>\n",
       "    <tr>\n",
       "      <th>...</th>\n",
       "      <td>...</td>\n",
       "      <td>...</td>\n",
       "      <td>...</td>\n",
       "      <td>...</td>\n",
       "      <td>...</td>\n",
       "    </tr>\n",
       "    <tr>\n",
       "      <th>45533</th>\n",
       "      <td>Subdue</td>\n",
       "      <td>439050</td>\n",
       "      <td></td>\n",
       "      <td>Rising and falling between a man and woman.</td>\n",
       "      <td>Subdue Rising and falling between a man and wo...</td>\n",
       "    </tr>\n",
       "    <tr>\n",
       "      <th>45534</th>\n",
       "      <td>Century of Birthing</td>\n",
       "      <td>111109</td>\n",
       "      <td></td>\n",
       "      <td>An artist struggles to finish his work while a...</td>\n",
       "      <td>Century of Birthing An artist struggles to fin...</td>\n",
       "    </tr>\n",
       "    <tr>\n",
       "      <th>45535</th>\n",
       "      <td>Betrayal</td>\n",
       "      <td>67758</td>\n",
       "      <td></td>\n",
       "      <td>When one of her hits goes wrong, a professiona...</td>\n",
       "      <td>Betrayal When one of her hits goes wrong, a pr...</td>\n",
       "    </tr>\n",
       "    <tr>\n",
       "      <th>45536</th>\n",
       "      <td>Satan Triumphant</td>\n",
       "      <td>227506</td>\n",
       "      <td></td>\n",
       "      <td>In a small town live two brothers, one a minis...</td>\n",
       "      <td>Satan Triumphant In a small town live two brot...</td>\n",
       "    </tr>\n",
       "    <tr>\n",
       "      <th>45537</th>\n",
       "      <td>Queerama</td>\n",
       "      <td>461257</td>\n",
       "      <td></td>\n",
       "      <td>50 years after decriminalisation of homosexual...</td>\n",
       "      <td>Queerama 50 years after decriminalisation of h...</td>\n",
       "    </tr>\n",
       "  </tbody>\n",
       "</table>\n",
       "<p>45538 rows × 5 columns</p>\n",
       "</div>"
      ],
      "text/plain": [
       "                             title      id genres  \\\n",
       "0                        Toy Story     862          \n",
       "1                          Jumanji    8844          \n",
       "2                 Grumpier Old Men   15602          \n",
       "3                Waiting to Exhale   31357          \n",
       "4      Father of the Bride Part II   11862          \n",
       "...                            ...     ...    ...   \n",
       "45533                       Subdue  439050          \n",
       "45534          Century of Birthing  111109          \n",
       "45535                     Betrayal   67758          \n",
       "45536             Satan Triumphant  227506          \n",
       "45537                     Queerama  461257          \n",
       "\n",
       "                                                overview  \\\n",
       "0      Led by Woody, Andy's toys live happily in his ...   \n",
       "1      When siblings Judy and Peter discover an encha...   \n",
       "2      A family wedding reignites the ancient feud be...   \n",
       "3      Cheated on, mistreated and stepped on, the wom...   \n",
       "4      Just when George Banks has recovered from his ...   \n",
       "...                                                  ...   \n",
       "45533        Rising and falling between a man and woman.   \n",
       "45534  An artist struggles to finish his work while a...   \n",
       "45535  When one of her hits goes wrong, a professiona...   \n",
       "45536  In a small town live two brothers, one a minis...   \n",
       "45537  50 years after decriminalisation of homosexual...   \n",
       "\n",
       "                                       combined_features  \n",
       "0      Toy Story Led by Woody, Andy's toys live happi...  \n",
       "1      Jumanji When siblings Judy and Peter discover ...  \n",
       "2      Grumpier Old Men A family wedding reignites th...  \n",
       "3      Waiting to Exhale Cheated on, mistreated and s...  \n",
       "4      Father of the Bride Part II Just when George B...  \n",
       "...                                                  ...  \n",
       "45533  Subdue Rising and falling between a man and wo...  \n",
       "45534  Century of Birthing An artist struggles to fin...  \n",
       "45535  Betrayal When one of her hits goes wrong, a pr...  \n",
       "45536  Satan Triumphant In a small town live two brot...  \n",
       "45537  Queerama 50 years after decriminalisation of h...  \n",
       "\n",
       "[45538 rows x 5 columns]"
      ]
     },
     "execution_count": 46,
     "metadata": {},
     "output_type": "execute_result"
    }
   ],
   "source": [
    "df_reduced"
   ]
  },
  {
   "cell_type": "code",
   "execution_count": 47,
   "metadata": {},
   "outputs": [],
   "source": [
    "# Guardar el dataframe reducido\n",
    "df_reduced.to_parquet('movies_dataset_reduced.parquet')"
   ]
  },
  {
   "cell_type": "code",
   "execution_count": 48,
   "metadata": {},
   "outputs": [],
   "source": [
    "# Seleccionar una muestra aleatoria del dataset\n",
    "df_sample = df.sample(n=5000, random_state=42)  # Ajusta el tamaño de la muestra según sea necesario"
   ]
  },
  {
   "cell_type": "code",
   "execution_count": null,
   "metadata": {},
   "outputs": [],
   "source": [
    "# Seleccionar solo las columnas necesarias para el modelo\n",
    "df_reduced = df_sample[['title', 'id', 'genres', 'overview', 'combined_features']]"
   ]
  },
  {
   "cell_type": "code",
   "execution_count": 49,
   "metadata": {},
   "outputs": [],
   "source": [
    "# Guardar el dataframe reducido\n",
    "df_reduced.to_parquet('movies_dataset_reduced_sample.parquet')"
   ]
  },
  {
   "cell_type": "markdown",
   "metadata": {},
   "source": [
    "Preparación Modelo ML"
   ]
  },
  {
   "cell_type": "code",
   "execution_count": 50,
   "metadata": {},
   "outputs": [],
   "source": [
    "from sklearn.feature_extraction.text import TfidfVectorizer\n",
    "from sklearn.metrics.pairwise import cosine_similarity\n",
    "import numpy as np\n"
   ]
  },
  {
   "cell_type": "code",
   "execution_count": 51,
   "metadata": {},
   "outputs": [],
   "source": [
    "# Cargar el dataframe reducido\n",
    "df_reduced = pd.read_parquet('movies_dataset_reduced_sample.parquet')\n"
   ]
  },
  {
   "cell_type": "code",
   "execution_count": 52,
   "metadata": {},
   "outputs": [],
   "source": [
    "# Crear el vectorizador TF-IDF\n",
    "tfidf = TfidfVectorizer(stop_words='english')"
   ]
  },
  {
   "cell_type": "code",
   "execution_count": 53,
   "metadata": {},
   "outputs": [],
   "source": [
    "# Aplicar el vectorizador a las características combinadas\n",
    "tfidf_matrix = tfidf.fit_transform(df_reduced['combined_features'])\n"
   ]
  },
  {
   "cell_type": "code",
   "execution_count": 54,
   "metadata": {},
   "outputs": [],
   "source": [
    "# Calcular la similitud del coseno entre todas las películas\n",
    "cosine_sim = cosine_similarity(tfidf_matrix, tfidf_matrix)"
   ]
  },
  {
   "cell_type": "code",
   "execution_count": 55,
   "metadata": {},
   "outputs": [],
   "source": [
    "# Crear una serie con los índices de las películas\n",
    "indices = pd.Series(df_reduced.index, index=df_reduced['title']).drop_duplicates()"
   ]
  },
  {
   "cell_type": "code",
   "execution_count": 56,
   "metadata": {},
   "outputs": [],
   "source": [
    "def recomendacion(titulo, cosine_sim=cosine_sim):\n",
    "    if titulo not in indices:\n",
    "        return \"Película no encontrada en el dataset\"\n",
    "    \n",
    "    # Obtener el índice de la película que coincide con el título\n",
    "    idx = indices[titulo]\n",
    "    \n",
    "    # Obtener los puntajes de similitud de todas las películas con esa película\n",
    "    sim_scores = list(enumerate(cosine_sim[idx]))\n",
    "    \n",
    "    # Ordenar las películas basadas en los puntajes de similitud\n",
    "    sim_scores = sorted(sim_scores, key=lambda x: x[1], reverse=True)\n",
    "    \n",
    "    # Obtener los índices de las 5 películas más similares\n",
    "    sim_scores = sim_scores[1:6]\n",
    "    \n",
    "    # Obtener los títulos de las 5 películas más similares\n",
    "    movie_indices = [i[0] for i in sim_scores]\n",
    "    \n",
    "    return df_reduced['title'].iloc[movie_indices].tolist()\n"
   ]
  },
  {
   "cell_type": "code",
   "execution_count": 57,
   "metadata": {},
   "outputs": [
    {
     "name": "stdout",
     "output_type": "stream",
     "text": [
      "['Toy Story 3', 'Toy Story 2', 'The 40 Year Old Virgin', 'Small Fry', \"Andy Hardy's Blonde Trouble\"]\n"
     ]
    }
   ],
   "source": [
    "# Probar la función con un título de película\n",
    "titulo_a_probar = \"Toy Story\"  # Cambia este valor al título de la película que quieras probar\n",
    "resultado = recomendacion(titulo_a_probar)\n",
    "print(resultado)"
   ]
  },
  {
   "cell_type": "code",
   "execution_count": null,
   "metadata": {},
   "outputs": [],
   "source": []
  }
 ],
 "metadata": {
  "kernelspec": {
   "display_name": "Python 3",
   "language": "python",
   "name": "python3"
  },
  "language_info": {
   "codemirror_mode": {
    "name": "ipython",
    "version": 3
   },
   "file_extension": ".py",
   "mimetype": "text/x-python",
   "name": "python",
   "nbconvert_exporter": "python",
   "pygments_lexer": "ipython3",
   "version": "3.10.11"
  }
 },
 "nbformat": 4,
 "nbformat_minor": 2
}
